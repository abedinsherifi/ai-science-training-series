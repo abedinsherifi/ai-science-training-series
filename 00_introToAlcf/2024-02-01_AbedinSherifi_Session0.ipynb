{
 "cells": [
  {
   "cell_type": "markdown",
   "id": "a32931a2-8ff0-4c22-8f28-99c209e47245",
   "metadata": {},
   "source": [
    "##Test by Abedin"
   ]
  },
  {
   "cell_type": "code",
   "execution_count": 1,
   "id": "84294fac-1597-4881-906c-3b55239e0602",
   "metadata": {},
   "outputs": [
    {
     "name": "stdout",
     "output_type": "stream",
     "text": [
      "test test ...\n"
     ]
    }
   ],
   "source": [
    "import os, sys\n",
    "print('test test ...')"
   ]
  },
  {
   "cell_type": "code",
   "execution_count": null,
   "id": "c1bedd50-0d34-42fa-b4a4-e27b34754bd4",
   "metadata": {},
   "outputs": [],
   "source": []
  }
 ],
 "metadata": {
  "kernelspec": {
   "display_name": "Python 3 (ipykernel)",
   "language": "python",
   "name": "python3"
  },
  "language_info": {
   "codemirror_mode": {
    "name": "ipython",
    "version": 3
   },
   "file_extension": ".py",
   "mimetype": "text/x-python",
   "name": "python",
   "nbconvert_exporter": "python",
   "pygments_lexer": "ipython3",
   "version": "3.9.15"
  }
 },
 "nbformat": 4,
 "nbformat_minor": 5
}
